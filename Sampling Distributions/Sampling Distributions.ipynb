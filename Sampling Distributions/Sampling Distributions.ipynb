{
 "cells": [
  {
   "cell_type": "code",
   "execution_count": 1,
   "id": "bb2157cc",
   "metadata": {},
   "outputs": [],
   "source": [
    "import pandas as pd\n",
    "import seaborn as sns\n",
    "import os\n",
    "import matplotlib\n",
    "import matplotlib.pyplot as plt\n",
    "from matplotlib.ticker import (MultipleLocator, AutoMinorLocator)\n",
    "import numpy as np"
   ]
  },
  {
   "cell_type": "code",
   "execution_count": 2,
   "id": "1afbef5d",
   "metadata": {},
   "outputs": [
    {
     "data": {
      "text/html": [
       "<div>\n",
       "<style scoped>\n",
       "    .dataframe tbody tr th:only-of-type {\n",
       "        vertical-align: middle;\n",
       "    }\n",
       "\n",
       "    .dataframe tbody tr th {\n",
       "        vertical-align: top;\n",
       "    }\n",
       "\n",
       "    .dataframe thead th {\n",
       "        text-align: right;\n",
       "    }\n",
       "</style>\n",
       "<table border=\"1\" class=\"dataframe\">\n",
       "  <thead>\n",
       "    <tr style=\"text-align: right;\">\n",
       "      <th></th>\n",
       "      <th>Name</th>\n",
       "      <th>Salary</th>\n",
       "      <th>Team</th>\n",
       "      <th>POS</th>\n",
       "    </tr>\n",
       "  </thead>\n",
       "  <tbody>\n",
       "    <tr>\n",
       "      <th>0</th>\n",
       "      <td>Max Scherzer</td>\n",
       "      <td>42.143</td>\n",
       "      <td>WSH</td>\n",
       "      <td>SP</td>\n",
       "    </tr>\n",
       "    <tr>\n",
       "      <th>1</th>\n",
       "      <td>Stephen Strasburg</td>\n",
       "      <td>36.429</td>\n",
       "      <td>WSH</td>\n",
       "      <td>SP</td>\n",
       "    </tr>\n",
       "    <tr>\n",
       "      <th>2</th>\n",
       "      <td>Mike Trout</td>\n",
       "      <td>34.083</td>\n",
       "      <td>LAA</td>\n",
       "      <td>CF</td>\n",
       "    </tr>\n",
       "    <tr>\n",
       "      <th>3</th>\n",
       "      <td>Zack Greinke</td>\n",
       "      <td>32.422</td>\n",
       "      <td>ARI</td>\n",
       "      <td>SP</td>\n",
       "    </tr>\n",
       "    <tr>\n",
       "      <th>4</th>\n",
       "      <td>David Price</td>\n",
       "      <td>31.000</td>\n",
       "      <td>BOS</td>\n",
       "      <td>SP</td>\n",
       "    </tr>\n",
       "  </tbody>\n",
       "</table>\n",
       "</div>"
      ],
      "text/plain": [
       "                Name  Salary  Team POS\n",
       "0       Max Scherzer  42.143  WSH   SP\n",
       "1  Stephen Strasburg  36.429  WSH   SP\n",
       "2         Mike Trout  34.083  LAA   CF\n",
       "3       Zack Greinke  32.422  ARI   SP\n",
       "4        David Price  31.000  BOS   SP"
      ]
     },
     "execution_count": 2,
     "metadata": {},
     "output_type": "execute_result"
    }
   ],
   "source": [
    "df = pd.read_csv('..\\data\\BaseballSalaries2019.csv')\n",
    "df.head()"
   ]
  },
  {
   "cell_type": "markdown",
   "id": "f4f6f207",
   "metadata": {},
   "source": [
    "## Population Distribution"
   ]
  },
  {
   "cell_type": "code",
   "execution_count": 3,
   "id": "6b0cdc8e",
   "metadata": {},
   "outputs": [],
   "source": [
    "def add_text(ax, t, xy):\n",
    "    ax = ax.annotate(t, xy=xy, xycoords='data',\n",
    "        xytext=(15, 0), textcoords='offset points')"
   ]
  },
  {
   "cell_type": "code",
   "execution_count": 10,
   "id": "44da6c49",
   "metadata": {
    "scrolled": false
   },
   "outputs": [
    {
     "data": {
      "image/png": "[encoded data removed]",
      "text/plain": [
       "<Figure size 576x432 with 1 Axes>"
      ]
     },
     "metadata": {
      "needs_background": "light"
     },
     "output_type": "display_data"
    }
   ],
   "source": [
    "avg = df[\"Salary\"].mean()\n",
    "fig, ax = plt.subplots(figsize =(8,6))\n",
    "ax = sns.histplot(data = df, x = 'Salary', bins = 20, ax = ax)\n",
    "ax.xaxis.set_minor_locator(MultipleLocator(5))\n",
    "ax.axvline(x=avg, linewidth=3, color='firebrick', linestyle = 'dashed')\n",
    "add_text(ax, f'Average: {avg:.2f}', (avg, 400))"
   ]
  },
  {
   "cell_type": "markdown",
   "id": "f2b12c47",
   "metadata": {},
   "source": [
    "## Sampling Distribution"
   ]
  },
  {
   "cell_type": "code",
   "execution_count": 11,
   "id": "22292122",
   "metadata": {},
   "outputs": [],
   "source": [
    "SIMULATIONS = 5000\n",
    "N = 30"
   ]
  },
  {
   "cell_type": "code",
   "execution_count": 12,
   "id": "0eb6aac1",
   "metadata": {},
   "outputs": [],
   "source": [
    "avgs = []\n",
    "for _ in range(SIMULATIONS):    \n",
    "    avgs.append(df.sample(N)['Salary'].mean())\n",
    "\n",
    "avg = sum(avgs) / len(avgs)"
   ]
  },
  {
   "cell_type": "code",
   "execution_count": 13,
   "id": "a1e8a683",
   "metadata": {
    "scrolled": false
   },
   "outputs": [
    {
     "data": {
      "image/png": "[encoded data removed]",
      "text/plain": [
       "<Figure size 576x432 with 1 Axes>"
      ]
     },
     "metadata": {
      "needs_background": "light"
     },
     "output_type": "display_data"
    }
   ],
   "source": [
    "fig, ax = plt.subplots(figsize =(8,6))\n",
    "ax = sns.histplot(x = avgs, bins = 20, ax = ax)\n",
    "ax.xaxis.set_minor_locator(MultipleLocator(5))\n",
    "ax.axvline(x=avg, linewidth=3, color='firebrick', linestyle = 'dashed')\n",
    "\n",
    "add_text(ax, f'Average: {avg:.2f}, SE = {np.std(avgs, ddof = 1):.2f}', (avg, 625))"
   ]
  },
  {
   "cell_type": "markdown",
   "id": "7b757cc9",
   "metadata": {},
   "source": [
    "## Standard Error"
   ]
  },
  {
   "cell_type": "code",
   "execution_count": 14,
   "id": "f56ad3e9",
   "metadata": {},
   "outputs": [],
   "source": [
    "avgs_arr = np.array(avgs)"
   ]
  },
  {
   "cell_type": "code",
   "execution_count": 15,
   "id": "49981bd5",
   "metadata": {},
   "outputs": [
    {
     "data": {
      "text/plain": [
       "1.1407441217963592"
      ]
     },
     "execution_count": 15,
     "metadata": {},
     "output_type": "execute_result"
    }
   ],
   "source": [
    "np.std(avgs_arr, ddof = 1)"
   ]
  }
 ],
 "metadata": {
  "kernelspec": {
   "display_name": "LR",
   "language": "python",
   "name": "lr"
  },
  "language_info": {
   "codemirror_mode": {
    "name": "ipython",
    "version": 3
   },
   "file_extension": ".py",
   "mimetype": "text/x-python",
   "name": "python",
   "nbconvert_exporter": "python",
   "pygments_lexer": "ipython3",
   "version": "3.10.2"
  }
 },
 "nbformat": 4,
 "nbformat_minor": 5
}
