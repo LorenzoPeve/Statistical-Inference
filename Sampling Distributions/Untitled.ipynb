{
 "cells": [
  {
   "cell_type": "code",
   "execution_count": 5,
   "id": "31b677be",
   "metadata": {},
   "outputs": [],
   "source": [
    "import pandas as pd\n",
    "import seaborn as sns\n",
    "import os\n",
    "import matplotlib\n",
    "import matplotlib.pyplot as plt\n",
    "from matplotlib.ticker import (MultipleLocator, AutoMinorLocator)\n",
    "import numpy as np"
   ]
  },
  {
   "cell_type": "code",
   "execution_count": 6,
   "id": "1d63e864",
   "metadata": {},
   "outputs": [
    {
     "data": {
      "text/plain": [
       "['BaseballSalaries2019.csv', 'cdc_bmi_.csv']"
      ]
     },
     "execution_count": 6,
     "metadata": {},
     "output_type": "execute_result"
    }
   ],
   "source": [
    "os.listdir('..\\data')"
   ]
  },
  {
   "cell_type": "code",
   "execution_count": 7,
   "id": "1e6b20a0",
   "metadata": {},
   "outputs": [
    {
     "data": {
      "text/html": [
       "<div>\n",
       "<style scoped>\n",
       "    .dataframe tbody tr th:only-of-type {\n",
       "        vertical-align: middle;\n",
       "    }\n",
       "\n",
       "    .dataframe tbody tr th {\n",
       "        vertical-align: top;\n",
       "    }\n",
       "\n",
       "    .dataframe thead th {\n",
       "        text-align: right;\n",
       "    }\n",
       "</style>\n",
       "<table border=\"1\" class=\"dataframe\">\n",
       "  <thead>\n",
       "    <tr style=\"text-align: right;\">\n",
       "      <th></th>\n",
       "      <th>Year</th>\n",
       "      <th>Locationabbr</th>\n",
       "      <th>Locationdesc</th>\n",
       "      <th>Class</th>\n",
       "      <th>Topic</th>\n",
       "      <th>Question</th>\n",
       "      <th>Response</th>\n",
       "      <th>Break_Out</th>\n",
       "      <th>Break_Out_Category</th>\n",
       "      <th>Sample_Size</th>\n",
       "      <th>...</th>\n",
       "      <th>Data_Value_Footnote</th>\n",
       "      <th>DataSource</th>\n",
       "      <th>ClassId</th>\n",
       "      <th>TopicId</th>\n",
       "      <th>LocationID</th>\n",
       "      <th>BreakoutID</th>\n",
       "      <th>BreakOutCategoryID</th>\n",
       "      <th>QuestionID</th>\n",
       "      <th>ResponseID</th>\n",
       "      <th>GeoLocation</th>\n",
       "    </tr>\n",
       "  </thead>\n",
       "  <tbody>\n",
       "    <tr>\n",
       "      <th>0</th>\n",
       "      <td>2019</td>\n",
       "      <td>KY</td>\n",
       "      <td>Kentucky</td>\n",
       "      <td>Overweight and Obesity (BMI)</td>\n",
       "      <td>BMI Categories</td>\n",
       "      <td>Weight classification by Body Mass Index (BMI)...</td>\n",
       "      <td>Overweight (BMI 25.0-29.9)</td>\n",
       "      <td>Overall</td>\n",
       "      <td>Overall</td>\n",
       "      <td>2706</td>\n",
       "      <td>...</td>\n",
       "      <td>NaN</td>\n",
       "      <td>BRFSS</td>\n",
       "      <td>CLASS14</td>\n",
       "      <td>TOPIC09</td>\n",
       "      <td>21</td>\n",
       "      <td>BO1</td>\n",
       "      <td>CAT1</td>\n",
       "      <td>_BMI5CAT</td>\n",
       "      <td>RESP040</td>\n",
       "      <td>(37.645970271000465, -84.77497104799966)</td>\n",
       "    </tr>\n",
       "    <tr>\n",
       "      <th>1</th>\n",
       "      <td>2020</td>\n",
       "      <td>AK</td>\n",
       "      <td>Alaska</td>\n",
       "      <td>Overweight and Obesity (BMI)</td>\n",
       "      <td>BMI Categories</td>\n",
       "      <td>Weight classification by Body Mass Index (BMI)...</td>\n",
       "      <td>Obese (BMI 30.0 - 99.8)</td>\n",
       "      <td>$25,000-$34,999</td>\n",
       "      <td>Household Income</td>\n",
       "      <td>90</td>\n",
       "      <td>...</td>\n",
       "      <td>NaN</td>\n",
       "      <td>BRFSS</td>\n",
       "      <td>CLASS14</td>\n",
       "      <td>TOPIC09</td>\n",
       "      <td>2</td>\n",
       "      <td>INCOME3</td>\n",
       "      <td>CAT6</td>\n",
       "      <td>_BMI5CAT</td>\n",
       "      <td>RESP039</td>\n",
       "      <td>(64.84507995700051, -147.72205903599973)</td>\n",
       "    </tr>\n",
       "    <tr>\n",
       "      <th>2</th>\n",
       "      <td>2020</td>\n",
       "      <td>AK</td>\n",
       "      <td>Alaska</td>\n",
       "      <td>Overweight and Obesity (BMI)</td>\n",
       "      <td>BMI Categories</td>\n",
       "      <td>Weight classification by Body Mass Index (BMI)...</td>\n",
       "      <td>Underweight (BMI 12.0-18.4)</td>\n",
       "      <td>45-54</td>\n",
       "      <td>Age Group</td>\n",
       "      <td>5</td>\n",
       "      <td>...</td>\n",
       "      <td>Prevalence estimate not available if the unwei...</td>\n",
       "      <td>BRFSS</td>\n",
       "      <td>CLASS14</td>\n",
       "      <td>TOPIC09</td>\n",
       "      <td>2</td>\n",
       "      <td>AGE04</td>\n",
       "      <td>CAT3</td>\n",
       "      <td>_BMI5CAT</td>\n",
       "      <td>RESP042</td>\n",
       "      <td>(64.84507995700051, -147.72205903599973)</td>\n",
       "    </tr>\n",
       "    <tr>\n",
       "      <th>3</th>\n",
       "      <td>2020</td>\n",
       "      <td>AZ</td>\n",
       "      <td>Arizona</td>\n",
       "      <td>Overweight and Obesity (BMI)</td>\n",
       "      <td>BMI Categories</td>\n",
       "      <td>Weight classification by Body Mass Index (BMI)...</td>\n",
       "      <td>Underweight (BMI 12.0-18.4)</td>\n",
       "      <td>65+</td>\n",
       "      <td>Age Group</td>\n",
       "      <td>80</td>\n",
       "      <td>...</td>\n",
       "      <td>NaN</td>\n",
       "      <td>BRFSS</td>\n",
       "      <td>CLASS14</td>\n",
       "      <td>TOPIC09</td>\n",
       "      <td>4</td>\n",
       "      <td>AGE09</td>\n",
       "      <td>CAT3</td>\n",
       "      <td>_BMI5CAT</td>\n",
       "      <td>RESP042</td>\n",
       "      <td>(34.865970280000454, -111.76381127699972)</td>\n",
       "    </tr>\n",
       "    <tr>\n",
       "      <th>4</th>\n",
       "      <td>2020</td>\n",
       "      <td>AR</td>\n",
       "      <td>Arkansas</td>\n",
       "      <td>Overweight and Obesity (BMI)</td>\n",
       "      <td>BMI Categories</td>\n",
       "      <td>Weight classification by Body Mass Index (BMI)...</td>\n",
       "      <td>Underweight (BMI 12.0-18.4)</td>\n",
       "      <td>65+</td>\n",
       "      <td>Age Group</td>\n",
       "      <td>49</td>\n",
       "      <td>...</td>\n",
       "      <td>NaN</td>\n",
       "      <td>BRFSS</td>\n",
       "      <td>CLASS14</td>\n",
       "      <td>TOPIC09</td>\n",
       "      <td>5</td>\n",
       "      <td>AGE09</td>\n",
       "      <td>CAT3</td>\n",
       "      <td>_BMI5CAT</td>\n",
       "      <td>RESP042</td>\n",
       "      <td>(34.74865012400045, -92.27449074299966)</td>\n",
       "    </tr>\n",
       "  </tbody>\n",
       "</table>\n",
       "<p>5 rows × 27 columns</p>\n",
       "</div>"
      ],
      "text/plain": [
       "   Year Locationabbr Locationdesc                         Class  \\\n",
       "0  2019           KY     Kentucky  Overweight and Obesity (BMI)   \n",
       "1  2020           AK       Alaska  Overweight and Obesity (BMI)   \n",
       "2  2020           AK       Alaska  Overweight and Obesity (BMI)   \n",
       "3  2020           AZ      Arizona  Overweight and Obesity (BMI)   \n",
       "4  2020           AR     Arkansas  Overweight and Obesity (BMI)   \n",
       "\n",
       "            Topic                                           Question  \\\n",
       "0  BMI Categories  Weight classification by Body Mass Index (BMI)...   \n",
       "1  BMI Categories  Weight classification by Body Mass Index (BMI)...   \n",
       "2  BMI Categories  Weight classification by Body Mass Index (BMI)...   \n",
       "3  BMI Categories  Weight classification by Body Mass Index (BMI)...   \n",
       "4  BMI Categories  Weight classification by Body Mass Index (BMI)...   \n",
       "\n",
       "                      Response        Break_Out Break_Out_Category  \\\n",
       "0   Overweight (BMI 25.0-29.9)          Overall            Overall   \n",
       "1      Obese (BMI 30.0 - 99.8)  $25,000-$34,999   Household Income   \n",
       "2  Underweight (BMI 12.0-18.4)            45-54          Age Group   \n",
       "3  Underweight (BMI 12.0-18.4)              65+          Age Group   \n",
       "4  Underweight (BMI 12.0-18.4)              65+          Age Group   \n",
       "\n",
       "   Sample_Size  ...                                Data_Value_Footnote  \\\n",
       "0         2706  ...                                                NaN   \n",
       "1           90  ...                                                NaN   \n",
       "2            5  ...  Prevalence estimate not available if the unwei...   \n",
       "3           80  ...                                                NaN   \n",
       "4           49  ...                                                NaN   \n",
       "\n",
       "   DataSource  ClassId  TopicId LocationID BreakoutID BreakOutCategoryID  \\\n",
       "0       BRFSS  CLASS14  TOPIC09         21        BO1               CAT1   \n",
       "1       BRFSS  CLASS14  TOPIC09          2    INCOME3               CAT6   \n",
       "2       BRFSS  CLASS14  TOPIC09          2      AGE04               CAT3   \n",
       "3       BRFSS  CLASS14  TOPIC09          4      AGE09               CAT3   \n",
       "4       BRFSS  CLASS14  TOPIC09          5      AGE09               CAT3   \n",
       "\n",
       "  QuestionID ResponseID                                GeoLocation  \n",
       "0   _BMI5CAT    RESP040   (37.645970271000465, -84.77497104799966)  \n",
       "1   _BMI5CAT    RESP039   (64.84507995700051, -147.72205903599973)  \n",
       "2   _BMI5CAT    RESP042   (64.84507995700051, -147.72205903599973)  \n",
       "3   _BMI5CAT    RESP042  (34.865970280000454, -111.76381127699972)  \n",
       "4   _BMI5CAT    RESP042    (34.74865012400045, -92.27449074299966)  \n",
       "\n",
       "[5 rows x 27 columns]"
      ]
     },
     "execution_count": 7,
     "metadata": {},
     "output_type": "execute_result"
    }
   ],
   "source": [
    "df = pd.read_csv('..\\data\\cdc_bmi_.csv')\n",
    "df.head()"
   ]
  },
  {
   "cell_type": "code",
   "execution_count": 8,
   "id": "4b293d06",
   "metadata": {},
   "outputs": [
    {
     "data": {
      "text/plain": [
       "(58538, 27)"
      ]
     },
     "execution_count": 8,
     "metadata": {},
     "output_type": "execute_result"
    }
   ],
   "source": [
    "df.shape"
   ]
  },
  {
   "cell_type": "code",
   "execution_count": 9,
   "id": "52e8ea41",
   "metadata": {},
   "outputs": [
    {
     "data": {
      "text/plain": [
       "Index(['Year', 'Locationabbr', 'Locationdesc', 'Class', 'Topic', 'Question',\n",
       "       'Response', 'Break_Out', 'Break_Out_Category', 'Sample_Size',\n",
       "       'Data_value', 'Confidence_limit_Low', 'Confidence_limit_High',\n",
       "       'Display_order', 'Data_value_unit', 'Data_value_type',\n",
       "       'Data_Value_Footnote_Symbol', 'Data_Value_Footnote', 'DataSource',\n",
       "       'ClassId', 'TopicId', 'LocationID', 'BreakoutID', 'BreakOutCategoryID',\n",
       "       'QuestionID', 'ResponseID', 'GeoLocation'],\n",
       "      dtype='object')"
      ]
     },
     "execution_count": 9,
     "metadata": {},
     "output_type": "execute_result"
    }
   ],
   "source": [
    "df.columns"
   ]
  },
  {
   "cell_type": "code",
   "execution_count": 18,
   "id": "91a8b748",
   "metadata": {},
   "outputs": [
    {
     "name": "stdout",
     "output_type": "stream",
     "text": [
      "[1, 2, 3] 1.0\n",
      "[11, 12, 13] 1.0\n",
      "[0.1, 0.1, 0.1] 2.8888949165808538e-34\n"
     ]
    }
   ],
   "source": [
    "for i in ([1,2,3], [11,12,13], [0.1, 0.1, 0.1]):\n",
    "    print(i, np.cov(i))"
   ]
  },
  {
   "cell_type": "code",
   "execution_count": 19,
   "id": "f1e25d28",
   "metadata": {},
   "outputs": [
    {
     "data": {
      "text/plain": [
       "0.06804138174397717"
      ]
     },
     "execution_count": 19,
     "metadata": {},
     "output_type": "execute_result"
    }
   ],
   "source": [
    "np.std([11, 12, 13]) / np.mean([11,12,13])"
   ]
  },
  {
   "cell_type": "code",
   "execution_count": 20,
   "id": "d7e82333",
   "metadata": {},
   "outputs": [
    {
     "data": {
      "text/plain": [
       "0.408248290463863"
      ]
     },
     "execution_count": 20,
     "metadata": {},
     "output_type": "execute_result"
    }
   ],
   "source": [
    "np.std([1, 2, 3]) / np.mean([1, 2, 3])"
   ]
  },
  {
   "cell_type": "code",
   "execution_count": 22,
   "id": "3e713fc9",
   "metadata": {},
   "outputs": [
    {
     "data": {
      "text/plain": [
       "0.5034317492677621"
      ]
     },
     "execution_count": 22,
     "metadata": {},
     "output_type": "execute_result"
    }
   ],
   "source": [
    "np.std([10, 4, 12, 15, 20, 5]) / np.mean([10, 4, 12, 15, 20, 5])"
   ]
  },
  {
   "cell_type": "code",
   "execution_count": null,
   "id": "52dbce76",
   "metadata": {},
   "outputs": [],
   "source": []
  },
  {
   "cell_type": "code",
   "execution_count": null,
   "id": "fb8e4825",
   "metadata": {},
   "outputs": [],
   "source": []
  },
  {
   "cell_type": "code",
   "execution_count": 17,
   "id": "2911ec50",
   "metadata": {},
   "outputs": [
    {
     "data": {
      "text/plain": [
       "array(1.)"
      ]
     },
     "execution_count": 17,
     "metadata": {},
     "output_type": "execute_result"
    }
   ],
   "source": [
    "np.cov([1, 2, 3])"
   ]
  },
  {
   "cell_type": "code",
   "execution_count": 16,
   "id": "ba77f200",
   "metadata": {},
   "outputs": [
    {
     "data": {
      "text/plain": [
       "3.0"
      ]
     },
     "execution_count": 16,
     "metadata": {},
     "output_type": "execute_result"
    }
   ],
   "source": [
    "np.var([1, 5, 5, 5])"
   ]
  },
  {
   "cell_type": "code",
   "execution_count": 12,
   "id": "19f3e130",
   "metadata": {},
   "outputs": [
    {
     "data": {
      "text/plain": [
       "3.2"
      ]
     },
     "execution_count": 12,
     "metadata": {},
     "output_type": "execute_result"
    }
   ],
   "source": [
    "np.var([3, 3, 5, 7, 7])"
   ]
  },
  {
   "cell_type": "code",
   "execution_count": 14,
   "id": "3305ac2c",
   "metadata": {},
   "outputs": [
    {
     "data": {
      "text/plain": [
       "8.0"
      ]
     },
     "execution_count": 14,
     "metadata": {},
     "output_type": "execute_result"
    }
   ],
   "source": [
    "np.var([1, 5, 5, 9])"
   ]
  },
  {
   "cell_type": "code",
   "execution_count": 15,
   "id": "017fa394",
   "metadata": {},
   "outputs": [
    {
     "data": {
      "text/plain": [
       "4.0"
      ]
     },
     "execution_count": 15,
     "metadata": {},
     "output_type": "execute_result"
    }
   ],
   "source": [
    "np.var([3, 3, 7, 7])"
   ]
  },
  {
   "cell_type": "code",
   "execution_count": null,
   "id": "96f4db52",
   "metadata": {},
   "outputs": [],
   "source": [
    "def "
   ]
  }
 ],
 "metadata": {
  "kernelspec": {
   "display_name": "venv_dataviz",
   "language": "python",
   "name": "venv_dataviz"
  },
  "language_info": {
   "codemirror_mode": {
    "name": "ipython",
    "version": 3
   },
   "file_extension": ".py",
   "mimetype": "text/x-python",
   "name": "python",
   "nbconvert_exporter": "python",
   "pygments_lexer": "ipython3",
   "version": "3.10.2"
  }
 },
 "nbformat": 4,
 "nbformat_minor": 5
}
