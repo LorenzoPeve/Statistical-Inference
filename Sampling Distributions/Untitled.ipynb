{
 "cells": [
  {
   "cell_type": "code",
   "execution_count": 10,
   "id": "5de06727",
   "metadata": {},
   "outputs": [],
   "source": [
    "# some object where we keep surname and name \n",
    "class Request:\n",
    "    pass\n",
    "\n",
    "\n",
    "# some outer storage\n",
    "store = {}\n",
    "\n",
    "\n",
    "# chain of responsibility implementation\n",
    "\n",
    "class PersonIdentifier:\n",
    "\n",
    "    def __init__(self) -> None:\n",
    "        self.handlers = []\n",
    "\n",
    "    def add_handler(self, handler):\n",
    "        if self.handlers:\n",
    "            self.handlers[-1].set_next_handler(handler)\n",
    "        self.handlers.append(handler)\n",
    "\n",
    "    def handle(self, request):\n",
    "        return self.handlers[0].handle_request(request)\n",
    "\n",
    "\n",
    "# handlers for chain of responsibility\n",
    "\n",
    "class BaseHandler:\n",
    "    handler_name = None\n",
    "\n",
    "    def __init__(self) -> None:\n",
    "        self.next_handler = None\n",
    "\n",
    "    def set_next_handler(self, handler):\n",
    "        self.next_handler = handler\n",
    "\n",
    "\n",
    "class SurnameHandler(BaseHandler):\n",
    "    handler_name = 'surname'\n",
    "    handler_name_answer = 'surname-answer'\n",
    "    question = 'Type your surname: '\n",
    "\n",
    "    def handle_request(self, request):\n",
    "        if request.handler_name == self.handler_name:\n",
    "            print('here')\n",
    "            return self.question\n",
    "        elif request.handler_name == self.handler_name_answer:\n",
    "            print('here2')\n",
    "            global store\n",
    "            store['surname'] = request.surname\n",
    "            del request.surname\n",
    "            request.handler_name = 'name'\n",
    "            return self.next_handler.handle_request(request)\n",
    "        else:\n",
    "            print('here3')\n",
    "            return self.next_handler.handle_request(request)\n",
    "\n",
    "\n",
    "class NameHandler(BaseHandler):\n",
    "    handler_name = 'name'\n",
    "    handler_name_answer = 'name-answer'\n",
    "    question = 'Type your name: '\n",
    "\n",
    "    def handle_request(self, request):\n",
    "        if request.handler_name == self.handler_name:\n",
    "            return self.question\n",
    "        elif request.handler_name == self.handler_name_answer:\n",
    "            global store\n",
    "            store['name'] = request.name\n",
    "\n"
   ]
  },
  {
   "cell_type": "code",
   "execution_count": 11,
   "id": "30da8b6c",
   "metadata": {},
   "outputs": [
    {
     "data": {
      "text/plain": [
       "<__main__.Request at 0x1ebb6a72c50>"
      ]
     },
     "execution_count": 11,
     "metadata": {},
     "output_type": "execute_result"
    }
   ],
   "source": [
    "user_request = Request()\n",
    "user_request"
   ]
  },
  {
   "cell_type": "code",
   "execution_count": 12,
   "id": "0b16d5e1",
   "metadata": {},
   "outputs": [],
   "source": [
    "chain = PersonIdentifier()\n",
    "chain.add_handler(SurnameHandler())\n",
    "chain.add_handler(NameHandler())"
   ]
  },
  {
   "cell_type": "code",
   "execution_count": 13,
   "id": "1e4ed95d",
   "metadata": {},
   "outputs": [
    {
     "data": {
      "text/plain": [
       "[<__main__.SurnameHandler at 0x1ebb6a716c0>,\n",
       " <__main__.NameHandler at 0x1ebb6a71db0>]"
      ]
     },
     "execution_count": 13,
     "metadata": {},
     "output_type": "execute_result"
    }
   ],
   "source": [
    "chain.handlers"
   ]
  },
  {
   "cell_type": "code",
   "execution_count": null,
   "id": "80fd52a8",
   "metadata": {},
   "outputs": [],
   "source": []
  },
  {
   "cell_type": "code",
   "execution_count": 15,
   "id": "09eb5715",
   "metadata": {},
   "outputs": [
    {
     "name": "stdout",
     "output_type": "stream",
     "text": [
      "here\n",
      "Type your surname: Peve\n"
     ]
    }
   ],
   "source": [
    "\n",
    "# first ask for surname\n",
    "user_request.handler_name = 'surname'\n",
    "surname = input(chain.handle(user_request))\n",
    "user_request.handler_name = 'surname-answer'\n",
    "user_request.surname = surname"
   ]
  },
  {
   "cell_type": "code",
   "execution_count": null,
   "id": "b22d0855",
   "metadata": {},
   "outputs": [
    {
     "name": "stdout",
     "output_type": "stream",
     "text": [
      "here2\n"
     ]
    }
   ],
   "source": [
    "# then ask for name\n",
    "name = input(chain.handle(user_request))\n",
    "user_request.name = name\n",
    "user_request.handler_name = 'name-answer'\n",
    "chain.handle(user_request)"
   ]
  },
  {
   "cell_type": "code",
   "execution_count": null,
   "id": "34ac77ed",
   "metadata": {},
   "outputs": [],
   "source": [
    "user_request = Request()\n",
    "\n",
    "chain = PersonIdentifier()\n",
    "chain.add_handler(SurnameHandler())\n",
    "chain.add_handler(NameHandler())\n",
    "\n",
    "# first ask for surname\n",
    "user_request.handler_name = 'surname'\n",
    "surname = input(chain.handle(user_request))\n",
    "user_request.handler_name = 'surname-answer'\n",
    "user_request.surname = surname\n",
    "\n",
    "# then ask for name\n",
    "name = input(chain.handle(user_request))\n",
    "user_request.name = name\n",
    "user_request.handler_name = 'name-answer'\n",
    "chain.handle(user_request)\n",
    "\n",
    "print(store)"
   ]
  }
 ],
 "metadata": {
  "kernelspec": {
   "display_name": "LR",
   "language": "python",
   "name": "lr"
  },
  "language_info": {
   "codemirror_mode": {
    "name": "ipython",
    "version": 3
   },
   "file_extension": ".py",
   "mimetype": "text/x-python",
   "name": "python",
   "nbconvert_exporter": "python",
   "pygments_lexer": "ipython3",
   "version": "3.10.2"
  }
 },
 "nbformat": 4,
 "nbformat_minor": 5
}
