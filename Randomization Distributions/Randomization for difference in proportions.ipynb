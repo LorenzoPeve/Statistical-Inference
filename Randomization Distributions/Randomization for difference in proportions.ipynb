{
 "cells": [
  {
   "cell_type": "code",
   "execution_count": 1,
   "id": "6408bbc3",
   "metadata": {},
   "outputs": [],
   "source": [
    "import pandas as pd\n",
    "import seaborn as sns\n",
    "import os\n",
    "import matplotlib\n",
    "import matplotlib.pyplot as plt\n",
    "from matplotlib.ticker import (MultipleLocator, AutoMinorLocator)\n",
    "import numpy as np\n",
    "import random\n",
    "from typing import Callable\n",
    "from collections.abc import Iterable"
   ]
  },
  {
   "cell_type": "markdown",
   "id": "f401d8f5",
   "metadata": {},
   "source": [
    "## Input"
   ]
  },
  {
   "cell_type": "code",
   "execution_count": 2,
   "id": "ef56cf85",
   "metadata": {},
   "outputs": [],
   "source": [
    "N_SAMPLES = 5000\n",
    "N_TRIALS = 10"
   ]
  },
  {
   "cell_type": "markdown",
   "id": "5c54a1c4",
   "metadata": {},
   "source": [
    "Original Sample"
   ]
  },
  {
   "cell_type": "code",
   "execution_count": 3,
   "id": "de5540bf",
   "metadata": {},
   "outputs": [],
   "source": [
    "c1, s1 = 38, 53\n",
    "c2, s2 = 14, 31 "
   ]
  },
  {
   "cell_type": "markdown",
   "id": "edbdd9ba",
   "metadata": {},
   "source": [
    "## Simulation Functions"
   ]
  },
  {
   "cell_type": "code",
   "execution_count": 4,
   "id": "cffba660",
   "metadata": {},
   "outputs": [],
   "source": [
    "def get_randomization_dist(\n",
    "    sampling_func: Callable, n_trials: int, n_samples: int, *args, **kwargs):\n",
    "    \"\"\"\n",
    "    Creates `n_trials` randomization distributions (RD) for a difference in\n",
    "    means using an input sampling function and returns the RD corresponding to\n",
    "    the median standard error.\n",
    "    \"\"\"\n",
    "    samples, rd_centers, rd_se = [], [], []\n",
    "    \n",
    "    for _ in range(n_trials):\n",
    "\n",
    "        s = [] # container for current trial\n",
    "        for _ in range(n_samples):\n",
    "        \n",
    "            s.append(sampling_func(*args, **kwargs))\n",
    "\n",
    "        samples.append(s)    \n",
    "        rd_centers.append(sum(s) / len(s))\n",
    "        rd_se.append(np.std(s, ddof = 1))\n",
    "\n",
    "    i = (rd_se == np.sort(rd_se)[len(rd_se)//2]).argmax() # get index of median\n",
    "   \n",
    "    return samples[i], rd_centers[i], rd_se[i]\n",
    "\n",
    "\n",
    "def add_text(ax, t, xy):\n",
    "    ax = ax.annotate(t, xy=xy, xycoords='data',\n",
    "        xytext=(30, 0), textcoords='offset points')\n",
    "\n",
    "def plot_hist(diffs, avg, se, bins):\n",
    "        \n",
    "    fig, ax = plt.subplots(figsize =(8,6))\n",
    "    ax = sns.histplot(x = diffs, bins = bins, ax = ax)\n",
    "\n",
    "    ax.axvline(x=avg, linewidth=2, color='firebrick', linestyle = 'dashed')\n",
    "    add_text(ax, f'Mean: {avg:.4f}, SE = {se:.4f}', (avg+0.02, 500))\n",
    "    return ax\n",
    "\n",
    "def add_sample_stat(ax, x):\n",
    "    ax.axvline(x=x, linewidth=3, color='blue', linestyle = 'solid')"
   ]
  },
  {
   "cell_type": "markdown",
   "id": "8c72316d",
   "metadata": {},
   "source": [
    "## Running Simulation"
   ]
  },
  {
   "cell_type": "code",
   "execution_count": 5,
   "id": "814c62a7",
   "metadata": {},
   "outputs": [],
   "source": [
    "def sample_diff_proportion_reallocation(c1: int, s1: int, c2: int, s2: int):\n",
    "    \n",
    "    \"\"\"\n",
    "    Args:\n",
    "        c1, s1 = Count and sample size of group 1.\n",
    "        c2, s2 = Count and sample size of group 2.    \n",
    "    \"\"\"\n",
    "    g1 = [1 for _ in range(c1)] + [0 for _ in range(c1, s1)]\n",
    "    assert len(g1) == s1\n",
    "\n",
    "    g2 = [1 for _ in range(c2)] + [0 for _ in range(c2, s2)]\n",
    "    assert len(g2) == s2\n",
    "\n",
    "    pool = g1 + g2\n",
    "    \n",
    "    random.shuffle(pool)\n",
    "    return np.mean(pool[:len(g1)]) - np.mean(pool[len(g1):])"
   ]
  },
  {
   "cell_type": "code",
   "execution_count": 6,
   "id": "9a9884d4",
   "metadata": {},
   "outputs": [],
   "source": [
    "diffs, avg, se = get_randomization_dist(\n",
    "    sample_diff_proportion_reallocation, N_TRIALS, N_SAMPLES, c1, s1, c2, s2)"
   ]
  },
  {
   "cell_type": "code",
   "execution_count": 7,
   "id": "7e3cb114",
   "metadata": {
    "scrolled": false
   },
   "outputs": [
    {
     "data": {
      "image/png": "[encoded data removed]",
      "text/plain": [
       "<Figure size 800x600 with 1 Axes>"
      ]
     },
     "metadata": {},
     "output_type": "display_data"
    }
   ],
   "source": [
    "ax = plot_hist(diffs, avg, se, np.arange(-0.5, 0.5, 0.02))\n",
    "add_sample_stat(ax, (c1/s1) - (c2/s2))"
   ]
  },
  {
   "cell_type": "markdown",
   "id": "220735e4",
   "metadata": {},
   "source": [
    "P-value"
   ]
  },
  {
   "cell_type": "code",
   "execution_count": 8,
   "id": "5d212260",
   "metadata": {},
   "outputs": [
    {
     "data": {
      "text/plain": [
       "0.0136"
      ]
     },
     "execution_count": 8,
     "metadata": {},
     "output_type": "execute_result"
    }
   ],
   "source": [
    "sum(np.array(diffs) >= (c1/s1) - (c2/s2)) / N_SAMPLES"
   ]
  }
 ],
 "metadata": {
  "kernelspec": {
   "display_name": "venv_dataviz",
   "language": "python",
   "name": "venv_dataviz"
  },
  "language_info": {
   "codemirror_mode": {
    "name": "ipython",
    "version": 3
   },
   "file_extension": ".py",
   "mimetype": "text/x-python",
   "name": "python",
   "nbconvert_exporter": "python",
   "pygments_lexer": "ipython3",
   "version": "3.10.2"
  }
 },
 "nbformat": 4,
 "nbformat_minor": 5
}
